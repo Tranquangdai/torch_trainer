{
 "cells": [
  {
   "cell_type": "code",
   "execution_count": 1,
   "metadata": {},
   "outputs": [],
   "source": [
    "import os, shutil, time, sys, pdb\n",
    "import numpy as np\n",
    "from collections import defaultdict , OrderedDict\n",
    "\n",
    "import torch, torchvision\n",
    "import torch.nn as nn\n",
    "import torch.optim as optim\n",
    "import torch.nn.functional as F\n",
    "from torch.autograd import Variable\n",
    "from torch.utils.data import DataLoader, Dataset\n",
    "from torchvision import datasets, transforms"
   ]
  },
  {
   "cell_type": "code",
   "execution_count": 2,
   "metadata": {},
   "outputs": [],
   "source": [
    "from torch_trainer.engine import Model\n",
    "from torch_trainer.metrics import accuracy\n",
    "from torch_trainer.callbacks import CyclicalLearningRate, ModelCheckpoint\n",
    "from torch_trainer.callbacks.logger import NeptuneLogger\n",
    "from torch_trainer.utils.lr_finder import LRFinder\n",
    "from torch_trainer.optimizers import RAdam, Lookahead"
   ]
  },
  {
   "cell_type": "code",
   "execution_count": 3,
   "metadata": {},
   "outputs": [],
   "source": [
    "PARAMS = {'HIDDEN_NUM_UNITS': 128}\n",
    "\n",
    "input_num_units = 28*28\n",
    "hidden_num_units = PARAMS['HIDDEN_NUM_UNITS']\n",
    "output_num_units = 10\n",
    "batch_size = 512"
   ]
  },
  {
   "cell_type": "code",
   "execution_count": 4,
   "metadata": {},
   "outputs": [],
   "source": [
    "train_iter=DataLoader(torchvision.datasets.MNIST('./', train=True, \n",
    "                         transform=transforms.Compose([transforms.ToTensor(),transforms.Normalize((0.1307,), (0.3081,))]), \n",
    "                         target_transform=None, download=True), batch_size, shuffle=True)\n",
    "test_iter=DataLoader(torchvision.datasets.MNIST('./', train=False, \n",
    "                         transform=transforms.Compose([transforms.ToTensor(),transforms.Normalize((0.1307,), (0.3081,))]), \n",
    "                         target_transform=None, download=True), batch_size, shuffle=True)"
   ]
  },
  {
   "cell_type": "code",
   "execution_count": 5,
   "metadata": {},
   "outputs": [],
   "source": [
    "class MnistPytorch(Model):\n",
    "    \n",
    "    def __init__(self):\n",
    "        super(MnistPytorch, self).__init__()\n",
    "        self.linear_1 = nn.Linear(input_num_units, hidden_num_units)\n",
    "        self.relu = nn.ReLU()\n",
    "        self.linear_2 = nn.Linear(hidden_num_units, output_num_units)\n",
    "        \n",
    "    def forward(self, z):\n",
    "        z = z.reshape(-1, input_num_units)\n",
    "        z = self.linear_1(z)\n",
    "        z = self.relu(z)\n",
    "        z = self.linear_2(z)\n",
    "        return z"
   ]
  },
  {
   "cell_type": "code",
   "execution_count": 6,
   "metadata": {},
   "outputs": [],
   "source": [
    "model = MnistPytorch()\n",
    "opt = optim.Adam(model.parameters())\n",
    "criterion = nn.CrossEntropyLoss()\n",
    "model.compile(optimizer=opt, metrics=[accuracy], loss=criterion, clipnorm=3.0)"
   ]
  },
  {
   "cell_type": "code",
   "execution_count": null,
   "metadata": {},
   "outputs": [],
   "source": [
    "cpkt = ModelCheckpoint('test.h5', monitor='val_loss', verbose=1, save_best_only=True, save_weights_only=True)\n",
    "cyclic_lr = CyclicalLearningRate(base_lr=1e-4, max_lr=1e-2, auto_find_lr=False)"
   ]
  },
  {
   "cell_type": "code",
   "execution_count": null,
   "metadata": {},
   "outputs": [],
   "source": [
    "hist = model.fit(train_iter, epochs=5, val_dataloader=test_iter, callbacks=[cyclic_lr, cpkt])"
   ]
  }
 ],
 "metadata": {
  "kernelspec": {
   "display_name": "Python 3",
   "language": "python",
   "name": "python3"
  },
  "language_info": {
   "codemirror_mode": {
    "name": "ipython",
    "version": 3
   },
   "file_extension": ".py",
   "mimetype": "text/x-python",
   "name": "python",
   "nbconvert_exporter": "python",
   "pygments_lexer": "ipython3",
   "version": "3.7.7"
  }
 },
 "nbformat": 4,
 "nbformat_minor": 4
}
